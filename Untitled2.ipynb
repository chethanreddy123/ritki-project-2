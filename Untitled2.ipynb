{
 "cells": [
  {
   "cell_type": "code",
   "execution_count": 1,
   "id": "75499105",
   "metadata": {},
   "outputs": [
    {
     "data": {
      "text/plain": [
       "'0b10'"
      ]
     },
     "execution_count": 1,
     "metadata": {},
     "output_type": "execute_result"
    }
   ],
   "source": [
    "bin(2)"
   ]
  },
  {
   "cell_type": "code",
   "execution_count": 2,
   "id": "50e6ada3",
   "metadata": {},
   "outputs": [
    {
     "data": {
      "text/plain": [
       "'0b11'"
      ]
     },
     "execution_count": 2,
     "metadata": {},
     "output_type": "execute_result"
    }
   ],
   "source": [
    "bin(3)"
   ]
  },
  {
   "cell_type": "code",
   "execution_count": 3,
   "id": "9b3e36da",
   "metadata": {},
   "outputs": [
    {
     "data": {
      "text/plain": [
       "'0b100010'"
      ]
     },
     "execution_count": 3,
     "metadata": {},
     "output_type": "execute_result"
    }
   ],
   "source": [
    "bin(34)"
   ]
  },
  {
   "cell_type": "code",
   "execution_count": 4,
   "id": "2708e4a9",
   "metadata": {},
   "outputs": [
    {
     "data": {
      "text/plain": [
       "'0b11011'"
      ]
     },
     "execution_count": 4,
     "metadata": {},
     "output_type": "execute_result"
    }
   ],
   "source": [
    "bin(27)"
   ]
  },
  {
   "cell_type": "code",
   "execution_count": 7,
   "id": "935ee1da",
   "metadata": {},
   "outputs": [
    {
     "data": {
      "text/plain": [
       "108"
      ]
     },
     "execution_count": 7,
     "metadata": {},
     "output_type": "execute_result"
    }
   ],
   "source": [
    "int('0b1101100' , 2)"
   ]
  },
  {
   "cell_type": "code",
   "execution_count": 13,
   "id": "cf028dbc",
   "metadata": {},
   "outputs": [
    {
     "name": "stdout",
     "output_type": "stream",
     "text": [
      "Enter type of conversion:\n",
      "                             \n",
      "1.Binary to Decimal - BTD\n",
      "2.Decimal to Binary - DTB \n",
      "DTB\n",
      "Enter the decimal number(Ex: 23): 23\n",
      "The binary of given decimal is: 0b10111\n"
     ]
    }
   ],
   "source": [
    "typeOfConversion = str(input('''Enter type of conversion:\n",
    "                             \\n1.Binary to Decimal - BTD\\n2.Decimal to Binary - DTB \\n'''))\n",
    "\n",
    "if typeOfConversion == 'BTD':\n",
    "    binary = str(input(\"Enter the binary number(Ex: 1001110): \"))\n",
    "    binary = '0b' + binary\n",
    "    decimal = int(binary, 2)\n",
    "    print(\"The Decimal of given binary number is:\",decimal)\n",
    "elif typeOfConversion == 'DTB' :\n",
    "    decimal = int(input(\"Enter the decimal number(Ex: 23): \"))\n",
    "    binary = bin(decimal)\n",
    "    print(\"The binary of given decimal is:\",binary)\n",
    "else:\n",
    "    print(\"Invalid Option!!\")"
   ]
  },
  {
   "cell_type": "code",
   "execution_count": 14,
   "id": "323b3a78",
   "metadata": {},
   "outputs": [
    {
     "data": {
      "text/plain": [
       "True"
      ]
     },
     "execution_count": 14,
     "metadata": {},
     "output_type": "execute_result"
    }
   ],
   "source": [
    "True or False"
   ]
  },
  {
   "cell_type": "code",
   "execution_count": 16,
   "id": "55cde21d",
   "metadata": {},
   "outputs": [
    {
     "data": {
      "text/plain": [
       "False"
      ]
     },
     "execution_count": 16,
     "metadata": {},
     "output_type": "execute_result"
    }
   ],
   "source": [
    "True and False"
   ]
  },
  {
   "cell_type": "code",
   "execution_count": 18,
   "id": "e1b5549c",
   "metadata": {},
   "outputs": [
    {
     "name": "stdout",
     "output_type": "stream",
     "text": [
      "False\n"
     ]
    }
   ],
   "source": [
    "mom = True\n",
    "dad = False\n",
    "print(mom and dad)"
   ]
  },
  {
   "cell_type": "code",
   "execution_count": 21,
   "id": "48d7f7cb",
   "metadata": {},
   "outputs": [
    {
     "name": "stdout",
     "output_type": "stream",
     "text": [
      "False\n"
     ]
    }
   ],
   "source": [
    "mom = False\n",
    "dad = False\n",
    "print(mom or dad)"
   ]
  },
  {
   "cell_type": "code",
   "execution_count": null,
   "id": "51827935",
   "metadata": {},
   "outputs": [],
   "source": []
  }
 ],
 "metadata": {
  "kernelspec": {
   "display_name": "Python 3 (ipykernel)",
   "language": "python",
   "name": "python3"
  },
  "language_info": {
   "codemirror_mode": {
    "name": "ipython",
    "version": 3
   },
   "file_extension": ".py",
   "mimetype": "text/x-python",
   "name": "python",
   "nbconvert_exporter": "python",
   "pygments_lexer": "ipython3",
   "version": "3.9.13"
  }
 },
 "nbformat": 4,
 "nbformat_minor": 5
}
